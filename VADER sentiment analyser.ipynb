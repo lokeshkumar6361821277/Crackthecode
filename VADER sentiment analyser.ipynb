{
  "nbformat": 4,
  "nbformat_minor": 0,
  "metadata": {
    "colab": {
      "provenance": [],
      "authorship_tag": "ABX9TyOfh/+sJn9RDC26qWQpHh3D",
      "include_colab_link": true
    },
    "kernelspec": {
      "name": "python3",
      "display_name": "Python 3"
    },
    "language_info": {
      "name": "python"
    }
  },
  "cells": [
    {
      "cell_type": "markdown",
      "metadata": {
        "id": "view-in-github",
        "colab_type": "text"
      },
      "source": [
        "<a href=\"https://colab.research.google.com/github/lokeshkumar6361821277/Crackthecode/blob/main/VADER%20sentiment%20analyser.ipynb\" target=\"_parent\"><img src=\"https://colab.research.google.com/assets/colab-badge.svg\" alt=\"Open In Colab\"/></a>"
      ]
    },
    {
      "cell_type": "markdown",
      "source": [
        "9. Sentiment Analysis Of Lockdown In India During Covid-19 A Case Study On\n",
        "Twitter using ML-Compsoft Technologies.\n",
        "\n",
        " Built a python application that asks for a keyword and you need to identify the sentiment of that\n",
        "keyword using an open source dataset."
      ],
      "metadata": {
        "id": "hDoWxzm6Rt47"
      }
    },
    {
      "cell_type": "code",
      "source": [
        "import nltk\n",
        "nltk.download('vader_lexicon')\n",
        "from nltk.sentiment import SentimentIntensityAnalyzer"
      ],
      "metadata": {
        "id": "Z9xmXnuiOxWu"
      },
      "execution_count": null,
      "outputs": []
    },
    {
      "cell_type": "code",
      "source": [
        "sia=SentimentIntensityAnalyzer() # Initialize the SentimentIntensityAnalyzer"
      ],
      "metadata": {
        "id": "r1wwVQf5QXn4"
      },
      "execution_count": null,
      "outputs": []
    },
    {
      "cell_type": "code",
      "source": [
        "def analyser(text):                #defining the function for analysing the text.\n",
        "  s=sia.polarity_scores(text)      #initializing polarity_scores function from SentimentIntensityAnalyzer as 's' variable.\n",
        "  print(s)\n",
        "  compound_score =s['compound']\n",
        "  if compound_score >= 0.05:       #using conditional statement to find accurate output.\n",
        "      print(\"Positive\")\n",
        "  elif compound_score <= -0.05:    # adjust values if you want more accurate outputs.\n",
        "      print(\"Negative\")\n",
        "  else:\n",
        "      print(\"Neutral\")"
      ],
      "metadata": {
        "id": "hJnY_Z6jQbuH"
      },
      "execution_count": null,
      "outputs": []
    },
    {
      "cell_type": "code",
      "source": [
        "text=input(\"enter the response: \") #input from the user.\n",
        "analyser(text)   #initializing the analyser() function."
      ],
      "metadata": {
        "id": "DwTGuHwoQkKi"
      },
      "execution_count": null,
      "outputs": []
    }
  ]
}